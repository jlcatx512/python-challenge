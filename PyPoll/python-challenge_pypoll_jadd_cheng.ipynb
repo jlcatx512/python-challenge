{
 "cells": [
  {
   "cell_type": "code",
   "execution_count": 190,
   "metadata": {},
   "outputs": [
    {
     "name": "stdout",
     "output_type": "stream",
     "text": [
      "Election Results\n",
      "-------------------------\n",
      "Total Votes: 3521001\n",
      "-------------------------\n",
      "Khan: 63.000% (2218231)\n",
      "Correy: 20.000% (704200)\n",
      "Li: 14.000% (492940)\n",
      "O'Tooley: 3.000% (105630)\n",
      "-------------------------\n",
      "Winner: Khan\n",
      "-------------------------\n"
     ]
    }
   ],
   "source": [
    "# Jadd Cheng August 10, 2019\n",
    "\n",
    "# Import dependencies.\n",
    "import os\n",
    "import csv\n",
    "\n",
    "# Create file path variable.\n",
    "csv_path = os.path.join('Resources', 'election_data.csv')\n",
    "csv_path\n",
    "\n",
    "with open (csv_path, newline='') as f: # f refers to the file\n",
    "    csv_reader = csv.reader(f, delimiter=',')\n",
    "    next(csv_reader) # skip header row\n",
    "    \n",
    "    candidate_votes_dict = {} # key-value, candidates, votes\n",
    "    candidate_percent_dict = {}\n",
    "    total_votes = 0\n",
    "    \n",
    "    for row in csv_reader:\n",
    "        total_votes += 1\n",
    "        candidate = row[2]\n",
    "\n",
    "        if candidate not in candidate_votes_dict.keys():\n",
    "            candidate_votes_dict[candidate] = 1\n",
    "        else:\n",
    "            candidate_votes_dict[candidate] += 1\n",
    "            \n",
    "    for candidate in candidate_votes_dict.keys():\n",
    "        candidate_percent_dict[candidate] = '{:.3%}'.format(float(candidate_votes_dict[candidate]/total_votes))\n",
    "\n",
    "# Determine winner.\n",
    "v = list(candidate_votes_dict.values())\n",
    "k = list(candidate_votes_dict.keys())\n",
    "\n",
    "winner = k[v.index(max(v))]\n",
    "\n",
    "# Print out Election Results to terminal.\n",
    "print(f\"\"\"Election Results\\n\"\"\"\n",
    "      f\"\"\"-------------------------\\n\"\"\"\n",
    "    f\"Total Votes: {total_votes}\\n\"\n",
    "    f\"\"\"-------------------------\"\"\")\n",
    "for candidate in candidate_votes_dict:\n",
    "    print(f\"{candidate}: {candidate_percent_dict[candidate]} ({candidate_votes_dict[candidate]})\")\n",
    "print(f\"\"\"-------------------------\\n\"\"\"\n",
    "      f\"\"\"Winner: {winner}\\n\"\"\"\n",
    "      f\"\"\"-------------------------\"\"\")\n",
    "\n",
    "# Print Election Results to text file.\n",
    "with open(\"pypoll_election_results_jadd_cheng.txt\", \"w\") as text_file:\n",
    "    print(f\"\"\"Election Results\\n\"\"\"\n",
    "          f\"\"\"-------------------------\\n\"\"\"\n",
    "        f\"Total Votes: {total_votes}\\n\"\n",
    "        f\"\"\"-------------------------\"\"\", file=text_file)\n",
    "    for candidate in candidate_votes_dict:\n",
    "        print(f\"{candidate}: {candidate_percent_dict[candidate]} ({candidate_votes_dict[candidate]})\", file=text_file)\n",
    "    print(f\"\"\"-------------------------\\n\"\"\"\n",
    "          f\"\"\"Winner: {winner}\\n\"\"\"\n",
    "          f\"\"\"-------------------------\"\"\",  file=text_file)"
   ]
  },
  {
   "cell_type": "code",
   "execution_count": null,
   "metadata": {},
   "outputs": [],
   "source": []
  }
 ],
 "metadata": {
  "kernelspec": {
   "display_name": "Conda [PythonData]",
   "language": "python",
   "name": "pythondata"
  },
  "language_info": {
   "codemirror_mode": {
    "name": "ipython",
    "version": 3
   },
   "file_extension": ".py",
   "mimetype": "text/x-python",
   "name": "python",
   "nbconvert_exporter": "python",
   "pygments_lexer": "ipython3",
   "version": "3.7.3"
  }
 },
 "nbformat": 4,
 "nbformat_minor": 2
}
